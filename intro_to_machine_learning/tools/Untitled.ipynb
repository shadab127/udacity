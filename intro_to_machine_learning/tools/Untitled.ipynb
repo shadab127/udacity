{
 "cells": [
  {
   "cell_type": "code",
   "execution_count": 7,
   "metadata": {},
   "outputs": [
    {
     "name": "stdout",
     "output_type": "stream",
     "text": [
      "checking for nltk\n",
      "checking for numpy\n",
      "checking for scipy\n",
      "checking for sklearn\n",
      "downloading the Enron dataset (this may take a while)\n",
      "to check on progress, you can cd up one level, then execute <ls -lthr>\n",
      "Enron dataset should be last item on the list, along with its current size\n",
      "download will complete at about 423 MB\n"
     ]
    },
    {
     "ename": "AttributeError",
     "evalue": "module 'urllib' has no attribute 'urlretrieve'",
     "output_type": "error",
     "traceback": [
      "\u001b[1;31m---------------------------------------------------------------------------\u001b[0m",
      "\u001b[1;31mAttributeError\u001b[0m                            Traceback (most recent call last)",
      "\u001b[1;32m<ipython-input-7-2c55dc019e84>\u001b[0m in \u001b[0;36m<module>\u001b[1;34m()\u001b[0m\n\u001b[0;32m     32\u001b[0m \u001b[1;32mimport\u001b[0m \u001b[0murllib\u001b[0m\u001b[1;33m\u001b[0m\u001b[0m\n\u001b[0;32m     33\u001b[0m \u001b[0murl\u001b[0m \u001b[1;33m=\u001b[0m \u001b[1;34m\"https://www.cs.cmu.edu/~./enron/enron_mail_20150507.tar.gz\"\u001b[0m\u001b[1;33m\u001b[0m\u001b[0m\n\u001b[1;32m---> 34\u001b[1;33m \u001b[0murllib\u001b[0m\u001b[1;33m.\u001b[0m\u001b[0murlretrieve\u001b[0m\u001b[1;33m(\u001b[0m\u001b[0murl\u001b[0m\u001b[1;33m,\u001b[0m \u001b[0mfilename\u001b[0m\u001b[1;33m=\u001b[0m\u001b[1;34m\"../enron_mail_20150507.tar.gz\"\u001b[0m\u001b[1;33m)\u001b[0m\u001b[1;33m\u001b[0m\u001b[0m\n\u001b[0m\u001b[0;32m     35\u001b[0m \u001b[0mprint\u001b[0m \u001b[1;33m(\u001b[0m\u001b[1;34m\"download complete!\"\u001b[0m\u001b[1;33m)\u001b[0m\u001b[1;33m\u001b[0m\u001b[0m\n\u001b[0;32m     36\u001b[0m \u001b[1;33m\u001b[0m\u001b[0m\n",
      "\u001b[1;31mAttributeError\u001b[0m: module 'urllib' has no attribute 'urlretrieve'"
     ]
    }
   ],
   "source": [
    "#!/usr/bin/python\n",
    "\n",
    "print\n",
    "print (\"checking for nltk\")\n",
    "try:\n",
    "    import nltk\n",
    "except ImportError:\n",
    "    print (\"you should install nltk before continuing\")\n",
    "print (\"checking for numpy\")\n",
    "try:\n",
    "    import numpy\n",
    "except ImportError:\n",
    "    print (\"you should install numpy before continuing\")\n",
    "\n",
    "print (\"checking for scipy\")\n",
    "try:\n",
    "    import scipy\n",
    "except:\n",
    "    print (\"you should install scipy before continuing\")\n",
    "\n",
    "print (\"checking for sklearn\")\n",
    "try:\n",
    "    import sklearn\n",
    "except:\n",
    "    print (\"you should install sklearn before continuing\")\n",
    "\n",
    "print\n",
    "print (\"downloading the Enron dataset (this may take a while)\")\n",
    "print (\"to check on progress, you can cd up one level, then execute <ls -lthr>\")\n",
    "print (\"Enron dataset should be last item on the list, along with its current size\")\n",
    "print (\"download will complete at about 423 MB\")\n",
    "import urllib\n",
    "url = \"https://www.cs.cmu.edu/~./enron/enron_mail_20150507.tar.gz\"\n",
    "urllib.urlretrieve(url, filename=\"../enron_mail_20150507.tar.gz\") \n",
    "print (\"download complete!\")\n",
    "\n",
    "\n",
    "print\n",
    "print (\"unzipping Enron dataset (this may take a while)\")\n",
    "import tarfile\n",
    "import os\n",
    "os.chdir(\"..\")\n",
    "tfile = tarfile.open(\"enron_mail_20150507.tar.gz\", \"r:gz\")\n",
    "tfile.extractall(\".\")\n",
    "\n",
    "print (\"you're ready to go!\")\n"
   ]
  },
  {
   "cell_type": "code",
   "execution_count": null,
   "metadata": {},
   "outputs": [],
   "source": []
  }
 ],
 "metadata": {
  "kernelspec": {
   "display_name": "Python 3",
   "language": "python",
   "name": "python3"
  }
 },
 "nbformat": 4,
 "nbformat_minor": 2
}
